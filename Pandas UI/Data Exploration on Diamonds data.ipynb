{
 "cells": [
  {
   "cell_type": "code",
   "execution_count": 1,
   "metadata": {},
   "outputs": [
    {
     "name": "stdout",
     "output_type": "stream",
     "text": [
      "Collecting pandas_ui\n",
      "  Downloading pandas_ui-0.1.tar.gz (325 kB)\n",
      "Requirement already satisfied: future in c:\\users\\ramki\\anaconda3\\lib\\site-packages (from pandas_ui) (0.18.2)\n",
      "Requirement already satisfied: ipywidgets in c:\\users\\ramki\\anaconda3\\lib\\site-packages (from pandas_ui) (7.5.1)\n",
      "Requirement already satisfied: ipython in c:\\users\\ramki\\anaconda3\\lib\\site-packages (from pandas_ui) (7.16.1)\n",
      "Requirement already satisfied: pandas in c:\\users\\ramki\\anaconda3\\lib\\site-packages (from pandas_ui) (1.2.3)\n",
      "Collecting qgrid\n",
      "  Downloading qgrid-1.3.1.tar.gz (889 kB)\n",
      "Requirement already satisfied: traitlets in c:\\users\\ramki\\anaconda3\\lib\\site-packages (from pandas_ui) (4.3.3)\n",
      "Requirement already satisfied: pandas-profiling in c:\\users\\ramki\\anaconda3\\lib\\site-packages (from pandas_ui) (2.9.0)\n",
      "Requirement already satisfied: bokeh in c:\\users\\ramki\\anaconda3\\lib\\site-packages (from pandas_ui) (2.1.1)\n",
      "Requirement already satisfied: plotly in c:\\users\\ramki\\anaconda3\\lib\\site-packages (from pandas_ui) (4.11.0)\n",
      "Requirement already satisfied: numpy in c:\\users\\ramki\\anaconda3\\lib\\site-packages (from pandas_ui) (1.19.5)\n",
      "Requirement already satisfied: ipykernel>=4.5.1 in c:\\users\\ramki\\anaconda3\\lib\\site-packages (from ipywidgets->pandas_ui) (5.3.2)\n",
      "Requirement already satisfied: nbformat>=4.2.0 in c:\\users\\ramki\\anaconda3\\lib\\site-packages (from ipywidgets->pandas_ui) (5.0.7)\n",
      "Requirement already satisfied: widgetsnbextension~=3.5.0 in c:\\users\\ramki\\anaconda3\\lib\\site-packages (from ipywidgets->pandas_ui) (3.5.1)\n",
      "Requirement already satisfied: setuptools>=18.5 in c:\\users\\ramki\\anaconda3\\lib\\site-packages (from ipython->pandas_ui) (49.2.0.post20200714)\n",
      "Requirement already satisfied: prompt-toolkit!=3.0.0,!=3.0.1,<3.1.0,>=2.0.0 in c:\\users\\ramki\\anaconda3\\lib\\site-packages (from ipython->pandas_ui) (3.0.5)\n",
      "Requirement already satisfied: pickleshare in c:\\users\\ramki\\anaconda3\\lib\\site-packages (from ipython->pandas_ui) (0.7.5)\n",
      "Requirement already satisfied: decorator in c:\\users\\ramki\\anaconda3\\lib\\site-packages (from ipython->pandas_ui) (4.4.2)\n",
      "Requirement already satisfied: jedi>=0.10 in c:\\users\\ramki\\anaconda3\\lib\\site-packages (from ipython->pandas_ui) (0.17.1)\n",
      "Requirement already satisfied: colorama; sys_platform == \"win32\" in c:\\users\\ramki\\anaconda3\\lib\\site-packages (from ipython->pandas_ui) (0.4.3)\n",
      "Requirement already satisfied: pygments in c:\\users\\ramki\\anaconda3\\lib\\site-packages (from ipython->pandas_ui) (2.6.1)\n",
      "Requirement already satisfied: backcall in c:\\users\\ramki\\anaconda3\\lib\\site-packages (from ipython->pandas_ui) (0.2.0)\n",
      "Requirement already satisfied: python-dateutil>=2.7.3 in c:\\users\\ramki\\anaconda3\\lib\\site-packages (from pandas->pandas_ui) (2.8.1)\n",
      "Requirement already satisfied: pytz>=2017.3 in c:\\users\\ramki\\anaconda3\\lib\\site-packages (from pandas->pandas_ui) (2020.1)\n",
      "Requirement already satisfied: notebook>=4.0.0 in c:\\users\\ramki\\anaconda3\\lib\\site-packages (from qgrid->pandas_ui) (6.0.3)\n",
      "Requirement already satisfied: ipython-genutils in c:\\users\\ramki\\anaconda3\\lib\\site-packages (from traitlets->pandas_ui) (0.2.0)\n",
      "Requirement already satisfied: six in c:\\users\\ramki\\anaconda3\\lib\\site-packages (from traitlets->pandas_ui) (1.15.0)\n",
      "Requirement already satisfied: phik>=0.9.10 in c:\\users\\ramki\\anaconda3\\lib\\site-packages (from pandas-profiling->pandas_ui) (0.10.0)\n",
      "Requirement already satisfied: attrs>=19.3.0 in c:\\users\\ramki\\anaconda3\\lib\\site-packages (from pandas-profiling->pandas_ui) (19.3.0)\n",
      "Requirement already satisfied: matplotlib>=3.2.0 in c:\\users\\ramki\\anaconda3\\lib\\site-packages (from pandas-profiling->pandas_ui) (3.2.2)\n",
      "Requirement already satisfied: scipy>=1.4.1 in c:\\users\\ramki\\anaconda3\\lib\\site-packages (from pandas-profiling->pandas_ui) (1.5.0)\n",
      "Requirement already satisfied: tqdm>=4.43.0 in c:\\users\\ramki\\anaconda3\\lib\\site-packages (from pandas-profiling->pandas_ui) (4.47.0)\n",
      "Requirement already satisfied: htmlmin>=0.1.12 in c:\\users\\ramki\\anaconda3\\lib\\site-packages (from pandas-profiling->pandas_ui) (0.1.12)\n",
      "Requirement already satisfied: tangled-up-in-unicode>=0.0.6 in c:\\users\\ramki\\anaconda3\\lib\\site-packages (from pandas-profiling->pandas_ui) (0.0.6)\n",
      "Requirement already satisfied: requests>=2.23.0 in c:\\users\\ramki\\anaconda3\\lib\\site-packages (from pandas-profiling->pandas_ui) (2.24.0)\n",
      "Requirement already satisfied: seaborn>=0.10.1 in c:\\users\\ramki\\anaconda3\\lib\\site-packages (from pandas-profiling->pandas_ui) (0.10.1)\n",
      "Requirement already satisfied: jinja2>=2.11.1 in c:\\users\\ramki\\anaconda3\\lib\\site-packages (from pandas-profiling->pandas_ui) (2.11.2)\n",
      "Requirement already satisfied: visions[type_image_path]==0.5.0 in c:\\users\\ramki\\anaconda3\\lib\\site-packages (from pandas-profiling->pandas_ui) (0.5.0)\n",
      "Requirement already satisfied: missingno>=0.4.2 in c:\\users\\ramki\\anaconda3\\lib\\site-packages (from pandas-profiling->pandas_ui) (0.4.2)\n",
      "Requirement already satisfied: confuse>=1.0.0 in c:\\users\\ramki\\anaconda3\\lib\\site-packages (from pandas-profiling->pandas_ui) (1.3.0)\n",
      "Requirement already satisfied: joblib in c:\\users\\ramki\\anaconda3\\lib\\site-packages (from pandas-profiling->pandas_ui) (0.16.0)\n",
      "Requirement already satisfied: typing-extensions>=3.7.4 in c:\\users\\ramki\\anaconda3\\lib\\site-packages (from bokeh->pandas_ui) (3.7.4.2)\n",
      "Requirement already satisfied: packaging>=16.8 in c:\\users\\ramki\\anaconda3\\lib\\site-packages (from bokeh->pandas_ui) (20.4)\n",
      "Requirement already satisfied: pillow>=4.0 in c:\\users\\ramki\\anaconda3\\lib\\site-packages (from bokeh->pandas_ui) (7.2.0)\n",
      "Requirement already satisfied: tornado>=5.1 in c:\\users\\ramki\\anaconda3\\lib\\site-packages (from bokeh->pandas_ui) (6.0.4)\n",
      "Requirement already satisfied: PyYAML>=3.10 in c:\\users\\ramki\\anaconda3\\lib\\site-packages (from bokeh->pandas_ui) (5.3.1)\n",
      "Requirement already satisfied: retrying>=1.3.3 in c:\\users\\ramki\\anaconda3\\lib\\site-packages (from plotly->pandas_ui) (1.3.3)\n",
      "Requirement already satisfied: jupyter-client in c:\\users\\ramki\\anaconda3\\lib\\site-packages (from ipykernel>=4.5.1->ipywidgets->pandas_ui) (6.1.6)\n",
      "Requirement already satisfied: jupyter-core in c:\\users\\ramki\\anaconda3\\lib\\site-packages (from nbformat>=4.2.0->ipywidgets->pandas_ui) (4.6.3)\n",
      "Requirement already satisfied: jsonschema!=2.5.0,>=2.4 in c:\\users\\ramki\\anaconda3\\lib\\site-packages (from nbformat>=4.2.0->ipywidgets->pandas_ui) (3.2.0)\n",
      "Requirement already satisfied: wcwidth in c:\\users\\ramki\\anaconda3\\lib\\site-packages (from prompt-toolkit!=3.0.0,!=3.0.1,<3.1.0,>=2.0.0->ipython->pandas_ui) (0.2.5)\n",
      "Requirement already satisfied: parso<0.8.0,>=0.7.0 in c:\\users\\ramki\\anaconda3\\lib\\site-packages (from jedi>=0.10->ipython->pandas_ui) (0.7.0)\n",
      "Requirement already satisfied: Send2Trash in c:\\users\\ramki\\anaconda3\\lib\\site-packages (from notebook>=4.0.0->qgrid->pandas_ui) (1.5.0)\n",
      "Requirement already satisfied: terminado>=0.8.1 in c:\\users\\ramki\\anaconda3\\lib\\site-packages (from notebook>=4.0.0->qgrid->pandas_ui) (0.8.3)\n",
      "Requirement already satisfied: prometheus-client in c:\\users\\ramki\\anaconda3\\lib\\site-packages (from notebook>=4.0.0->qgrid->pandas_ui) (0.8.0)\n",
      "Requirement already satisfied: nbconvert in c:\\users\\ramki\\anaconda3\\lib\\site-packages (from notebook>=4.0.0->qgrid->pandas_ui) (5.6.1)\n",
      "Requirement already satisfied: pyzmq>=17 in c:\\users\\ramki\\anaconda3\\lib\\site-packages (from notebook>=4.0.0->qgrid->pandas_ui) (19.0.1)\n",
      "Requirement already satisfied: numba>=0.38.1 in c:\\users\\ramki\\anaconda3\\lib\\site-packages (from phik>=0.9.10->pandas-profiling->pandas_ui) (0.50.1)\n",
      "Requirement already satisfied: pyparsing!=2.0.4,!=2.1.2,!=2.1.6,>=2.0.1 in c:\\users\\ramki\\anaconda3\\lib\\site-packages (from matplotlib>=3.2.0->pandas-profiling->pandas_ui) (2.4.7)\n",
      "Requirement already satisfied: kiwisolver>=1.0.1 in c:\\users\\ramki\\anaconda3\\lib\\site-packages (from matplotlib>=3.2.0->pandas-profiling->pandas_ui) (1.2.0)\n",
      "Requirement already satisfied: cycler>=0.10 in c:\\users\\ramki\\anaconda3\\lib\\site-packages (from matplotlib>=3.2.0->pandas-profiling->pandas_ui) (0.10.0)\n",
      "Requirement already satisfied: chardet<4,>=3.0.2 in c:\\users\\ramki\\anaconda3\\lib\\site-packages (from requests>=2.23.0->pandas-profiling->pandas_ui) (3.0.4)\n",
      "Requirement already satisfied: idna<3,>=2.5 in c:\\users\\ramki\\anaconda3\\lib\\site-packages (from requests>=2.23.0->pandas-profiling->pandas_ui) (2.10)\n",
      "Requirement already satisfied: urllib3!=1.25.0,!=1.25.1,<1.26,>=1.21.1 in c:\\users\\ramki\\anaconda3\\lib\\site-packages (from requests>=2.23.0->pandas-profiling->pandas_ui) (1.25.9)\n",
      "Requirement already satisfied: certifi>=2017.4.17 in c:\\users\\ramki\\anaconda3\\lib\\site-packages (from requests>=2.23.0->pandas-profiling->pandas_ui) (2020.12.5)\n",
      "Requirement already satisfied: MarkupSafe>=0.23 in c:\\users\\ramki\\anaconda3\\lib\\site-packages (from jinja2>=2.11.1->pandas-profiling->pandas_ui) (1.1.1)\n",
      "Requirement already satisfied: networkx>=2.4 in c:\\users\\ramki\\anaconda3\\lib\\site-packages (from visions[type_image_path]==0.5.0->pandas-profiling->pandas_ui) (2.4)\n",
      "Requirement already satisfied: imagehash; extra == \"type_image_path\" in c:\\users\\ramki\\anaconda3\\lib\\site-packages (from visions[type_image_path]==0.5.0->pandas-profiling->pandas_ui) (4.1.0)\n",
      "Requirement already satisfied: pywin32>=1.0; sys_platform == \"win32\" in c:\\users\\ramki\\anaconda3\\lib\\site-packages (from jupyter-core->nbformat>=4.2.0->ipywidgets->pandas_ui) (227)\n",
      "Requirement already satisfied: pyrsistent>=0.14.0 in c:\\users\\ramki\\anaconda3\\lib\\site-packages (from jsonschema!=2.5.0,>=2.4->nbformat>=4.2.0->ipywidgets->pandas_ui) (0.16.0)\n",
      "Requirement already satisfied: mistune<2,>=0.8.1 in c:\\users\\ramki\\anaconda3\\lib\\site-packages (from nbconvert->notebook>=4.0.0->qgrid->pandas_ui) (0.8.4)\n",
      "Requirement already satisfied: defusedxml in c:\\users\\ramki\\anaconda3\\lib\\site-packages (from nbconvert->notebook>=4.0.0->qgrid->pandas_ui) (0.6.0)\n",
      "Requirement already satisfied: testpath in c:\\users\\ramki\\anaconda3\\lib\\site-packages (from nbconvert->notebook>=4.0.0->qgrid->pandas_ui) (0.4.4)\n",
      "Requirement already satisfied: pandocfilters>=1.4.1 in c:\\users\\ramki\\anaconda3\\lib\\site-packages (from nbconvert->notebook>=4.0.0->qgrid->pandas_ui) (1.4.2)\n",
      "Requirement already satisfied: bleach in c:\\users\\ramki\\anaconda3\\lib\\site-packages (from nbconvert->notebook>=4.0.0->qgrid->pandas_ui) (3.1.5)\n",
      "Requirement already satisfied: entrypoints>=0.2.2 in c:\\users\\ramki\\anaconda3\\lib\\site-packages (from nbconvert->notebook>=4.0.0->qgrid->pandas_ui) (0.3)\n",
      "Requirement already satisfied: llvmlite<0.34,>=0.33.0.dev0 in c:\\users\\ramki\\anaconda3\\lib\\site-packages (from numba>=0.38.1->phik>=0.9.10->pandas-profiling->pandas_ui) (0.33.0+1.g022ab0f)\n",
      "Requirement already satisfied: PyWavelets in c:\\users\\ramki\\anaconda3\\lib\\site-packages (from imagehash; extra == \"type_image_path\"->visions[type_image_path]==0.5.0->pandas-profiling->pandas_ui) (1.1.1)\n",
      "Requirement already satisfied: webencodings in c:\\users\\ramki\\anaconda3\\lib\\site-packages (from bleach->nbconvert->notebook>=4.0.0->qgrid->pandas_ui) (0.5.1)\n",
      "Building wheels for collected packages: pandas-ui, qgrid\n",
      "  Building wheel for pandas-ui (setup.py): started\n",
      "  Building wheel for pandas-ui (setup.py): finished with status 'done'\n",
      "  Created wheel for pandas-ui: filename=pandas_ui-0.1-py3-none-any.whl size=325250 sha256=56d80a2cc743119961ac63954e1b68c66483cad390326bb553bdb3ae27422cc7\n",
      "  Stored in directory: c:\\users\\ramki\\appdata\\local\\pip\\cache\\wheels\\62\\37\\ca\\d86fdcd09c10cdd12bc5d3d57b08dc3dcaa9fdf8a12824df43\n",
      "  Building wheel for qgrid (setup.py): started\n",
      "  Building wheel for qgrid (setup.py): finished with status 'done'\n",
      "  Created wheel for qgrid: filename=qgrid-1.3.1-py2.py3-none-any.whl size=1761257 sha256=d28b837563f2687ebc62e17f1dde508da046a502a79c916398415c8a45652855\n",
      "  Stored in directory: c:\\users\\ramki\\appdata\\local\\pip\\cache\\wheels\\4a\\65\\d3\\ec3d01337551a41a66aa7fe06c4d775b4a6a8ca798244a7e84\n",
      "Successfully built pandas-ui qgrid\n",
      "Installing collected packages: qgrid, pandas-ui\n",
      "Successfully installed pandas-ui-0.1 qgrid-1.3.1\n"
     ]
    }
   ],
   "source": [
    "!pip install pandas_ui"
   ]
  },
  {
   "cell_type": "code",
   "execution_count": 2,
   "metadata": {},
   "outputs": [],
   "source": [
    "from pandas_ui import *"
   ]
  },
  {
   "cell_type": "code",
   "execution_count": 4,
   "metadata": {},
   "outputs": [
    {
     "data": {
      "application/vnd.jupyter.widget-view+json": {
       "model_id": "75259fb0cea246fbb2fd99546de516d0",
       "version_major": 2,
       "version_minor": 0
      },
      "text/plain": [
       "Tab(children=(Output(), Output(), Output(), Output()), _titles={'0': 'DataFrame', '1': 'PandasProfoling', '2':…"
      ]
     },
     "metadata": {},
     "output_type": "display_data"
    }
   ],
   "source": [
    "df = pandas_ui(\"cubic_zirconia.csv\")"
   ]
  },
  {
   "cell_type": "code",
   "execution_count": null,
   "metadata": {},
   "outputs": [],
   "source": []
  }
 ],
 "metadata": {
  "kernelspec": {
   "display_name": "Python 3",
   "language": "python",
   "name": "python3"
  },
  "language_info": {
   "codemirror_mode": {
    "name": "ipython",
    "version": 3
   },
   "file_extension": ".py",
   "mimetype": "text/x-python",
   "name": "python",
   "nbconvert_exporter": "python",
   "pygments_lexer": "ipython3",
   "version": "3.8.3"
  }
 },
 "nbformat": 4,
 "nbformat_minor": 4
}
