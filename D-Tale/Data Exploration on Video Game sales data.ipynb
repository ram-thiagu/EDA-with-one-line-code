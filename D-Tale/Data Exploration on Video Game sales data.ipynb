{
 "cells": [
  {
   "cell_type": "code",
   "execution_count": 1,
   "metadata": {},
   "outputs": [
    {
     "name": "stdout",
     "output_type": "stream",
     "text": [
      "Requirement already satisfied: dtale in c:\\users\\ramki\\anaconda3\\lib\\site-packages (1.40.2)\n",
      "Requirement already satisfied: openpyxl; python_version >= \"3.0\" in c:\\users\\ramki\\anaconda3\\lib\\site-packages (from dtale) (3.0.4)\n",
      "Requirement already satisfied: dash>=1.5.0 in c:\\users\\ramki\\anaconda3\\lib\\site-packages (from dtale) (1.19.0)\n",
      "Requirement already satisfied: lz4; python_version > \"3.0\" in c:\\users\\ramki\\anaconda3\\lib\\site-packages (from dtale) (3.1.3)\n",
      "Requirement already satisfied: dash-colorscales in c:\\users\\ramki\\anaconda3\\lib\\site-packages (from dtale) (0.0.4)\n",
      "Requirement already satisfied: dash-daq in c:\\users\\ramki\\anaconda3\\lib\\site-packages (from dtale) (0.5.0)\n",
      "Requirement already satisfied: xlrd in c:\\users\\ramki\\anaconda3\\lib\\site-packages (from dtale) (1.2.0)\n",
      "Requirement already satisfied: Flask-Compress in c:\\users\\ramki\\anaconda3\\lib\\site-packages (from dtale) (1.9.0)\n",
      "Requirement already satisfied: kaleido; python_version > \"3.6\" in c:\\users\\ramki\\anaconda3\\lib\\site-packages (from dtale) (0.2.1)\n",
      "Requirement already satisfied: plotly>=4.9.0 in c:\\users\\ramki\\anaconda3\\lib\\site-packages (from dtale) (4.11.0)\n",
      "Requirement already satisfied: future>=0.14.0 in c:\\users\\ramki\\anaconda3\\lib\\site-packages (from dtale) (0.18.2)\n",
      "Requirement already satisfied: six in c:\\users\\ramki\\anaconda3\\lib\\site-packages (from dtale) (1.15.0)\n",
      "Requirement already satisfied: scikit-learn in c:\\users\\ramki\\anaconda3\\lib\\site-packages (from dtale) (0.24.1)\n",
      "Requirement already satisfied: itsdangerous in c:\\users\\ramki\\anaconda3\\lib\\site-packages (from dtale) (1.1.0)\n",
      "Requirement already satisfied: ppscore; python_version >= \"3.6\" in c:\\users\\ramki\\anaconda3\\lib\\site-packages (from dtale) (1.2.0)\n",
      "Requirement already satisfied: requests in c:\\users\\ramki\\anaconda3\\lib\\site-packages (from dtale) (2.24.0)\n",
      "Requirement already satisfied: dash-bootstrap-components; python_version > \"3.0\" in c:\\users\\ramki\\anaconda3\\lib\\site-packages (from dtale) (0.12.0)\n",
      "Requirement already satisfied: strsimpy in c:\\users\\ramki\\anaconda3\\lib\\site-packages (from dtale) (0.2.0)\n",
      "Requirement already satisfied: squarify in c:\\users\\ramki\\anaconda3\\lib\\site-packages (from dtale) (0.4.3)\n",
      "Requirement already satisfied: networkx; python_version >= \"3.0\" in c:\\users\\ramki\\anaconda3\\lib\\site-packages (from dtale) (2.4)\n",
      "Requirement already satisfied: Flask>=1.0 in c:\\users\\ramki\\anaconda3\\lib\\site-packages (from dtale) (1.1.2)\n",
      "Requirement already satisfied: xarray; python_version >= \"3.0\" in c:\\users\\ramki\\anaconda3\\lib\\site-packages (from dtale) (0.17.0)\n",
      "Requirement already satisfied: flask-ngrok; python_version > \"3.0\" in c:\\users\\ramki\\anaconda3\\lib\\site-packages (from dtale) (0.0.25)\n",
      "Requirement already satisfied: pandas in c:\\users\\ramki\\anaconda3\\lib\\site-packages (from dtale) (1.2.3)\n",
      "Requirement already satisfied: scipy in c:\\users\\ramki\\anaconda3\\lib\\site-packages (from dtale) (1.5.0)\n",
      "Requirement already satisfied: statsmodels; python_version > \"3.0\" in c:\\users\\ramki\\anaconda3\\lib\\site-packages (from dtale) (0.11.1)\n",
      "Requirement already satisfied: jdcal in c:\\users\\ramki\\anaconda3\\lib\\site-packages (from openpyxl; python_version >= \"3.0\"->dtale) (1.4.1)\n",
      "Requirement already satisfied: et-xmlfile in c:\\users\\ramki\\anaconda3\\lib\\site-packages (from openpyxl; python_version >= \"3.0\"->dtale) (1.0.1)\n",
      "Requirement already satisfied: dash-core-components==1.15.0 in c:\\users\\ramki\\anaconda3\\lib\\site-packages (from dash>=1.5.0->dtale) (1.15.0)\n",
      "Requirement already satisfied: dash-table==4.11.2 in c:\\users\\ramki\\anaconda3\\lib\\site-packages (from dash>=1.5.0->dtale) (4.11.2)\n",
      "Requirement already satisfied: dash-html-components==1.1.2 in c:\\users\\ramki\\anaconda3\\lib\\site-packages (from dash>=1.5.0->dtale) (1.1.2)\n",
      "Requirement already satisfied: dash-renderer==1.9.0 in c:\\users\\ramki\\anaconda3\\lib\\site-packages (from dash>=1.5.0->dtale) (1.9.0)\n",
      "Requirement already satisfied: brotli in c:\\users\\ramki\\anaconda3\\lib\\site-packages (from Flask-Compress->dtale) (1.0.9)\n",
      "Requirement already satisfied: retrying>=1.3.3 in c:\\users\\ramki\\anaconda3\\lib\\site-packages (from plotly>=4.9.0->dtale) (1.3.3)\n",
      "Requirement already satisfied: numpy>=1.13.3 in c:\\users\\ramki\\anaconda3\\lib\\site-packages (from scikit-learn->dtale) (1.19.5)\n",
      "Requirement already satisfied: threadpoolctl>=2.0.0 in c:\\users\\ramki\\anaconda3\\lib\\site-packages (from scikit-learn->dtale) (2.1.0)\n",
      "Requirement already satisfied: joblib>=0.11 in c:\\users\\ramki\\anaconda3\\lib\\site-packages (from scikit-learn->dtale) (0.16.0)\n",
      "Requirement already satisfied: certifi>=2017.4.17 in c:\\users\\ramki\\anaconda3\\lib\\site-packages (from requests->dtale) (2020.12.5)\n",
      "Requirement already satisfied: chardet<4,>=3.0.2 in c:\\users\\ramki\\anaconda3\\lib\\site-packages (from requests->dtale) (3.0.4)\n",
      "Requirement already satisfied: urllib3!=1.25.0,!=1.25.1,<1.26,>=1.21.1 in c:\\users\\ramki\\anaconda3\\lib\\site-packages (from requests->dtale) (1.25.9)\n",
      "Requirement already satisfied: idna<3,>=2.5 in c:\\users\\ramki\\anaconda3\\lib\\site-packages (from requests->dtale) (2.10)\n",
      "Requirement already satisfied: decorator>=4.3.0 in c:\\users\\ramki\\anaconda3\\lib\\site-packages (from networkx; python_version >= \"3.0\"->dtale) (4.4.2)\n",
      "Requirement already satisfied: click>=5.1 in c:\\users\\ramki\\anaconda3\\lib\\site-packages (from Flask>=1.0->dtale) (7.1.2)\n",
      "Requirement already satisfied: Werkzeug>=0.15 in c:\\users\\ramki\\anaconda3\\lib\\site-packages (from Flask>=1.0->dtale) (1.0.1)\n",
      "Requirement already satisfied: Jinja2>=2.10.1 in c:\\users\\ramki\\anaconda3\\lib\\site-packages (from Flask>=1.0->dtale) (2.11.2)\n",
      "Requirement already satisfied: setuptools>=40.4 in c:\\users\\ramki\\anaconda3\\lib\\site-packages (from xarray; python_version >= \"3.0\"->dtale) (49.2.0.post20200714)\n",
      "Requirement already satisfied: python-dateutil>=2.7.3 in c:\\users\\ramki\\anaconda3\\lib\\site-packages (from pandas->dtale) (2.8.1)\n",
      "Requirement already satisfied: pytz>=2017.3 in c:\\users\\ramki\\anaconda3\\lib\\site-packages (from pandas->dtale) (2020.1)\n",
      "Requirement already satisfied: patsy>=0.5 in c:\\users\\ramki\\anaconda3\\lib\\site-packages (from statsmodels; python_version > \"3.0\"->dtale) (0.5.1)\n",
      "Requirement already satisfied: MarkupSafe>=0.23 in c:\\users\\ramki\\anaconda3\\lib\\site-packages (from Jinja2>=2.10.1->Flask>=1.0->dtale) (1.1.1)\n"
     ]
    }
   ],
   "source": [
    "!pip install dtale"
   ]
  },
  {
   "cell_type": "code",
   "execution_count": 2,
   "metadata": {},
   "outputs": [],
   "source": [
    "import dtale"
   ]
  },
  {
   "cell_type": "code",
   "execution_count": 5,
   "metadata": {
    "scrolled": false
   },
   "outputs": [
    {
     "data": {
      "text/html": [
       "\n",
       "        <iframe\n",
       "            width=\"100%\"\n",
       "            height=\"475\"\n",
       "            src=\"http://LAPTOP-4ECV8FPK:40000/dtale/iframe/2\"\n",
       "            frameborder=\"0\"\n",
       "            allowfullscreen\n",
       "        ></iframe>\n",
       "        "
      ],
      "text/plain": [
       "<IPython.lib.display.IFrame at 0x1ab2839f1f0>"
      ]
     },
     "metadata": {},
     "output_type": "display_data"
    },
    {
     "data": {
      "text/plain": []
     },
     "execution_count": 5,
     "metadata": {},
     "output_type": "execute_result"
    }
   ],
   "source": [
    "import pandas as pd\n",
    "df=pd.read_csv('vgsales.csv')\n",
    "dtale.show(df)"
   ]
  },
  {
   "cell_type": "code",
   "execution_count": null,
   "metadata": {},
   "outputs": [],
   "source": []
  }
 ],
 "metadata": {
  "kernelspec": {
   "display_name": "Python 3",
   "language": "python",
   "name": "python3"
  },
  "language_info": {
   "codemirror_mode": {
    "name": "ipython",
    "version": 3
   },
   "file_extension": ".py",
   "mimetype": "text/x-python",
   "name": "python",
   "nbconvert_exporter": "python",
   "pygments_lexer": "ipython3",
   "version": "3.8.3"
  }
 },
 "nbformat": 4,
 "nbformat_minor": 4
}
