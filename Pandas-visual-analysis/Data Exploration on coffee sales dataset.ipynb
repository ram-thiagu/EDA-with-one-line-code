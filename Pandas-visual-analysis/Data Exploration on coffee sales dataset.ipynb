{
 "cells": [
  {
   "cell_type": "code",
   "execution_count": 2,
   "metadata": {},
   "outputs": [
    {
     "name": "stdout",
     "output_type": "stream",
     "text": [
      "Requirement already satisfied: pandas-visual-analysis in c:\\users\\ramki\\anaconda3\\lib\\site-packages (0.0.4)\n",
      "Requirement already satisfied: blinker>=1.4 in c:\\users\\ramki\\anaconda3\\lib\\site-packages (from pandas-visual-analysis) (1.4)\n",
      "Requirement already satisfied: ipywidgets>=7.5.1 in c:\\users\\ramki\\anaconda3\\lib\\site-packages (from pandas-visual-analysis) (7.5.1)\n",
      "Requirement already satisfied: numpy>=1.19.1 in c:\\users\\ramki\\anaconda3\\lib\\site-packages (from pandas-visual-analysis) (1.19.5)\n",
      "Requirement already satisfied: setuptools>=49.2.0 in c:\\users\\ramki\\anaconda3\\lib\\site-packages (from pandas-visual-analysis) (49.2.0.post20200714)\n",
      "Requirement already satisfied: pandas>=1.1.0 in c:\\users\\ramki\\anaconda3\\lib\\site-packages (from pandas-visual-analysis) (1.2.3)\n",
      "Requirement already satisfied: plotly>=4.10.0 in c:\\users\\ramki\\anaconda3\\lib\\site-packages (from pandas-visual-analysis) (4.11.0)\n",
      "Requirement already satisfied: widgetsnbextension~=3.5.0 in c:\\users\\ramki\\anaconda3\\lib\\site-packages (from ipywidgets>=7.5.1->pandas-visual-analysis) (3.5.1)\n",
      "Requirement already satisfied: traitlets>=4.3.1 in c:\\users\\ramki\\anaconda3\\lib\\site-packages (from ipywidgets>=7.5.1->pandas-visual-analysis) (4.3.3)\n",
      "Requirement already satisfied: ipykernel>=4.5.1 in c:\\users\\ramki\\anaconda3\\lib\\site-packages (from ipywidgets>=7.5.1->pandas-visual-analysis) (5.3.2)\n",
      "Requirement already satisfied: ipython>=4.0.0; python_version >= \"3.3\" in c:\\users\\ramki\\anaconda3\\lib\\site-packages (from ipywidgets>=7.5.1->pandas-visual-analysis) (7.16.1)\n",
      "Requirement already satisfied: nbformat>=4.2.0 in c:\\users\\ramki\\anaconda3\\lib\\site-packages (from ipywidgets>=7.5.1->pandas-visual-analysis) (5.0.7)\n",
      "Requirement already satisfied: pytz>=2017.3 in c:\\users\\ramki\\anaconda3\\lib\\site-packages (from pandas>=1.1.0->pandas-visual-analysis) (2020.1)\n",
      "Requirement already satisfied: python-dateutil>=2.7.3 in c:\\users\\ramki\\anaconda3\\lib\\site-packages (from pandas>=1.1.0->pandas-visual-analysis) (2.8.1)\n",
      "Requirement already satisfied: retrying>=1.3.3 in c:\\users\\ramki\\anaconda3\\lib\\site-packages (from plotly>=4.10.0->pandas-visual-analysis) (1.3.3)\n",
      "Requirement already satisfied: six in c:\\users\\ramki\\anaconda3\\lib\\site-packages (from plotly>=4.10.0->pandas-visual-analysis) (1.15.0)\n",
      "Requirement already satisfied: notebook>=4.4.1 in c:\\users\\ramki\\anaconda3\\lib\\site-packages (from widgetsnbextension~=3.5.0->ipywidgets>=7.5.1->pandas-visual-analysis) (6.0.3)\n",
      "Requirement already satisfied: decorator in c:\\users\\ramki\\anaconda3\\lib\\site-packages (from traitlets>=4.3.1->ipywidgets>=7.5.1->pandas-visual-analysis) (4.4.2)\n",
      "Requirement already satisfied: ipython-genutils in c:\\users\\ramki\\anaconda3\\lib\\site-packages (from traitlets>=4.3.1->ipywidgets>=7.5.1->pandas-visual-analysis) (0.2.0)\n",
      "Requirement already satisfied: jupyter-client in c:\\users\\ramki\\anaconda3\\lib\\site-packages (from ipykernel>=4.5.1->ipywidgets>=7.5.1->pandas-visual-analysis) (6.1.6)\n",
      "Requirement already satisfied: tornado>=4.2 in c:\\users\\ramki\\anaconda3\\lib\\site-packages (from ipykernel>=4.5.1->ipywidgets>=7.5.1->pandas-visual-analysis) (6.0.4)\n",
      "Requirement already satisfied: pickleshare in c:\\users\\ramki\\anaconda3\\lib\\site-packages (from ipython>=4.0.0; python_version >= \"3.3\"->ipywidgets>=7.5.1->pandas-visual-analysis) (0.7.5)\n",
      "Requirement already satisfied: backcall in c:\\users\\ramki\\anaconda3\\lib\\site-packages (from ipython>=4.0.0; python_version >= \"3.3\"->ipywidgets>=7.5.1->pandas-visual-analysis) (0.2.0)\n",
      "Requirement already satisfied: pygments in c:\\users\\ramki\\anaconda3\\lib\\site-packages (from ipython>=4.0.0; python_version >= \"3.3\"->ipywidgets>=7.5.1->pandas-visual-analysis) (2.6.1)\n",
      "Requirement already satisfied: colorama; sys_platform == \"win32\" in c:\\users\\ramki\\anaconda3\\lib\\site-packages (from ipython>=4.0.0; python_version >= \"3.3\"->ipywidgets>=7.5.1->pandas-visual-analysis) (0.4.3)\n",
      "Requirement already satisfied: prompt-toolkit!=3.0.0,!=3.0.1,<3.1.0,>=2.0.0 in c:\\users\\ramki\\anaconda3\\lib\\site-packages (from ipython>=4.0.0; python_version >= \"3.3\"->ipywidgets>=7.5.1->pandas-visual-analysis) (3.0.5)\n",
      "Requirement already satisfied: jedi>=0.10 in c:\\users\\ramki\\anaconda3\\lib\\site-packages (from ipython>=4.0.0; python_version >= \"3.3\"->ipywidgets>=7.5.1->pandas-visual-analysis) (0.17.1)\n",
      "Requirement already satisfied: jupyter-core in c:\\users\\ramki\\anaconda3\\lib\\site-packages (from nbformat>=4.2.0->ipywidgets>=7.5.1->pandas-visual-analysis) (4.6.3)\n",
      "Requirement already satisfied: jsonschema!=2.5.0,>=2.4 in c:\\users\\ramki\\anaconda3\\lib\\site-packages (from nbformat>=4.2.0->ipywidgets>=7.5.1->pandas-visual-analysis) (3.2.0)\n",
      "Requirement already satisfied: nbconvert in c:\\users\\ramki\\anaconda3\\lib\\site-packages (from notebook>=4.4.1->widgetsnbextension~=3.5.0->ipywidgets>=7.5.1->pandas-visual-analysis) (5.6.1)\n",
      "Requirement already satisfied: jinja2 in c:\\users\\ramki\\anaconda3\\lib\\site-packages (from notebook>=4.4.1->widgetsnbextension~=3.5.0->ipywidgets>=7.5.1->pandas-visual-analysis) (2.11.2)\n",
      "Requirement already satisfied: Send2Trash in c:\\users\\ramki\\anaconda3\\lib\\site-packages (from notebook>=4.4.1->widgetsnbextension~=3.5.0->ipywidgets>=7.5.1->pandas-visual-analysis) (1.5.0)\n",
      "Requirement already satisfied: terminado>=0.8.1 in c:\\users\\ramki\\anaconda3\\lib\\site-packages (from notebook>=4.4.1->widgetsnbextension~=3.5.0->ipywidgets>=7.5.1->pandas-visual-analysis) (0.8.3)\n",
      "Requirement already satisfied: prometheus-client in c:\\users\\ramki\\anaconda3\\lib\\site-packages (from notebook>=4.4.1->widgetsnbextension~=3.5.0->ipywidgets>=7.5.1->pandas-visual-analysis) (0.8.0)\n",
      "Requirement already satisfied: pyzmq>=17 in c:\\users\\ramki\\anaconda3\\lib\\site-packages (from notebook>=4.4.1->widgetsnbextension~=3.5.0->ipywidgets>=7.5.1->pandas-visual-analysis) (19.0.1)\n",
      "Requirement already satisfied: wcwidth in c:\\users\\ramki\\anaconda3\\lib\\site-packages (from prompt-toolkit!=3.0.0,!=3.0.1,<3.1.0,>=2.0.0->ipython>=4.0.0; python_version >= \"3.3\"->ipywidgets>=7.5.1->pandas-visual-analysis) (0.2.5)\n",
      "Requirement already satisfied: parso<0.8.0,>=0.7.0 in c:\\users\\ramki\\anaconda3\\lib\\site-packages (from jedi>=0.10->ipython>=4.0.0; python_version >= \"3.3\"->ipywidgets>=7.5.1->pandas-visual-analysis) (0.7.0)\n",
      "Requirement already satisfied: pywin32>=1.0; sys_platform == \"win32\" in c:\\users\\ramki\\anaconda3\\lib\\site-packages (from jupyter-core->nbformat>=4.2.0->ipywidgets>=7.5.1->pandas-visual-analysis) (227)\n",
      "Requirement already satisfied: attrs>=17.4.0 in c:\\users\\ramki\\anaconda3\\lib\\site-packages (from jsonschema!=2.5.0,>=2.4->nbformat>=4.2.0->ipywidgets>=7.5.1->pandas-visual-analysis) (19.3.0)\n",
      "Requirement already satisfied: pyrsistent>=0.14.0 in c:\\users\\ramki\\anaconda3\\lib\\site-packages (from jsonschema!=2.5.0,>=2.4->nbformat>=4.2.0->ipywidgets>=7.5.1->pandas-visual-analysis) (0.16.0)\n",
      "Requirement already satisfied: mistune<2,>=0.8.1 in c:\\users\\ramki\\anaconda3\\lib\\site-packages (from nbconvert->notebook>=4.4.1->widgetsnbextension~=3.5.0->ipywidgets>=7.5.1->pandas-visual-analysis) (0.8.4)\n",
      "Requirement already satisfied: bleach in c:\\users\\ramki\\anaconda3\\lib\\site-packages (from nbconvert->notebook>=4.4.1->widgetsnbextension~=3.5.0->ipywidgets>=7.5.1->pandas-visual-analysis) (3.1.5)\n",
      "Requirement already satisfied: pandocfilters>=1.4.1 in c:\\users\\ramki\\anaconda3\\lib\\site-packages (from nbconvert->notebook>=4.4.1->widgetsnbextension~=3.5.0->ipywidgets>=7.5.1->pandas-visual-analysis) (1.4.2)\n",
      "Requirement already satisfied: entrypoints>=0.2.2 in c:\\users\\ramki\\anaconda3\\lib\\site-packages (from nbconvert->notebook>=4.4.1->widgetsnbextension~=3.5.0->ipywidgets>=7.5.1->pandas-visual-analysis) (0.3)\n",
      "Requirement already satisfied: defusedxml in c:\\users\\ramki\\anaconda3\\lib\\site-packages (from nbconvert->notebook>=4.4.1->widgetsnbextension~=3.5.0->ipywidgets>=7.5.1->pandas-visual-analysis) (0.6.0)\n",
      "Requirement already satisfied: testpath in c:\\users\\ramki\\anaconda3\\lib\\site-packages (from nbconvert->notebook>=4.4.1->widgetsnbextension~=3.5.0->ipywidgets>=7.5.1->pandas-visual-analysis) (0.4.4)\n",
      "Requirement already satisfied: MarkupSafe>=0.23 in c:\\users\\ramki\\anaconda3\\lib\\site-packages (from jinja2->notebook>=4.4.1->widgetsnbextension~=3.5.0->ipywidgets>=7.5.1->pandas-visual-analysis) (1.1.1)\n",
      "Requirement already satisfied: packaging in c:\\users\\ramki\\anaconda3\\lib\\site-packages (from bleach->nbconvert->notebook>=4.4.1->widgetsnbextension~=3.5.0->ipywidgets>=7.5.1->pandas-visual-analysis) (20.4)\n",
      "Requirement already satisfied: webencodings in c:\\users\\ramki\\anaconda3\\lib\\site-packages (from bleach->nbconvert->notebook>=4.4.1->widgetsnbextension~=3.5.0->ipywidgets>=7.5.1->pandas-visual-analysis) (0.5.1)\n",
      "Requirement already satisfied: pyparsing>=2.0.2 in c:\\users\\ramki\\anaconda3\\lib\\site-packages (from packaging->bleach->nbconvert->notebook>=4.4.1->widgetsnbextension~=3.5.0->ipywidgets>=7.5.1->pandas-visual-analysis) (2.4.7)\n"
     ]
    }
   ],
   "source": [
    "!pip install pandas-visual-analysis"
   ]
  },
  {
   "cell_type": "code",
   "execution_count": 5,
   "metadata": {
    "scrolled": false
   },
   "outputs": [
    {
     "data": {
      "application/vnd.jupyter.widget-view+json": {
       "model_id": "658e8c1292f047ea9b092f12f87ac43a",
       "version_major": 2,
       "version_minor": 0
      },
      "text/plain": [
       "VBox(children=(ToggleButtons(_dom_classes=('layout-ab01571d0ecd41e39a8b89b2a3f45044',), description='Selection…"
      ]
     },
     "metadata": {},
     "output_type": "display_data"
    }
   ],
   "source": [
    "from pandas_visual_analysis import VisualAnalysis, DataSource\n",
    "import pandas as pd\n",
    "\n",
    "df=pd.read_csv('CoffeeChain-SimplifiedData.csv')\n",
    "\n",
    "data = DataSource(df)\n",
    "VisualAnalysis(data)"
   ]
  },
  {
   "cell_type": "code",
   "execution_count": null,
   "metadata": {},
   "outputs": [],
   "source": []
  }
 ],
 "metadata": {
  "kernelspec": {
   "display_name": "Python 3",
   "language": "python",
   "name": "python3"
  },
  "language_info": {
   "codemirror_mode": {
    "name": "ipython",
    "version": 3
   },
   "file_extension": ".py",
   "mimetype": "text/x-python",
   "name": "python",
   "nbconvert_exporter": "python",
   "pygments_lexer": "ipython3",
   "version": "3.8.3"
  }
 },
 "nbformat": 4,
 "nbformat_minor": 4
}
